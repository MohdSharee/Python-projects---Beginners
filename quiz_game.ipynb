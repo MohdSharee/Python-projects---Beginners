{
 "cells": [
  {
   "cell_type": "markdown",
   "id": "9279aa63-e2dc-44bb-ba4e-703901718039",
   "metadata": {},
   "source": [
    "# Quiz Game"
   ]
  },
  {
   "cell_type": "code",
   "execution_count": 13,
   "id": "a29eda87-79f4-4fa0-9fe6-5589e23e9d5f",
   "metadata": {},
   "outputs": [
    {
     "name": "stdout",
     "output_type": "stream",
     "text": [
      "Welcome to quiz game\n"
     ]
    },
    {
     "name": "stdin",
     "output_type": "stream",
     "text": [
      "Do you want to play quiz game?  YES\n"
     ]
    },
    {
     "name": "stdout",
     "output_type": "stream",
     "text": [
      "Alright, Let's play: \n"
     ]
    },
    {
     "name": "stdin",
     "output_type": "stream",
     "text": [
      "Name the tallest builing on earth?  NOPE\n"
     ]
    },
    {
     "name": "stdout",
     "output_type": "stream",
     "text": [
      "incorrect\n"
     ]
    },
    {
     "name": "stdin",
     "output_type": "stream",
     "text": [
      "what is the name of seventh wonder on earth?  NOPE\n"
     ]
    },
    {
     "name": "stdout",
     "output_type": "stream",
     "text": [
      "incorrect\n"
     ]
    },
    {
     "name": "stdin",
     "output_type": "stream",
     "text": [
      "What is the name of nearest galaxy from milky way?  NOPE\n"
     ]
    },
    {
     "name": "stdout",
     "output_type": "stream",
     "text": [
      "incorrect\n"
     ]
    },
    {
     "name": "stdin",
     "output_type": "stream",
     "text": [
      "What is the full form of NASA?  NASA\n"
     ]
    },
    {
     "name": "stdout",
     "output_type": "stream",
     "text": [
      "incorrect\n"
     ]
    },
    {
     "name": "stdin",
     "output_type": "stream",
     "text": [
      "Which valley of ladakh is famous for star observations?  NUBRA VALLEY\n"
     ]
    },
    {
     "name": "stdout",
     "output_type": "stream",
     "text": [
      "correct\n",
      "The number of correct questions is: 1\n",
      "The percentage of your score is: 20.0%.\n"
     ]
    }
   ],
   "source": [
    "print(\"Welcome to quiz game\")\n",
    "\n",
    "playing = input(\"Do you want to play quiz game? \")\n",
    "\n",
    "if playing.lower() != \"yes\":\n",
    "    print(\"Okay, Next time\")\n",
    "else:    \n",
    "    print(\"Alright, Let's play: \")\n",
    "    score=0\n",
    "    answer = input(\"Name the tallest builing on earth? \")\n",
    "    if answer.lower() == \"burj khalifa\":\n",
    "        print(\"correct\")\n",
    "        score=score+1\n",
    "    else:\n",
    "        print(\"incorrect\")\n",
    "\n",
    "    answer = input(\"what is the name of seventh wonder on earth? \")\n",
    "    if answer.lower() == \"taj mahal\":\n",
    "        print(\"correct\")\n",
    "        score=score+1\n",
    "    else:\n",
    "        print(\"incorrect\")\n",
    "\n",
    "    answer = input(\"What is the name of nearest galaxy from milky way? \")\n",
    "    if answer.lower() == \"andromeda galaxy\":\n",
    "        print(\"correct\")\n",
    "        score=score+1\n",
    "    else:\n",
    "        print(\"incorrect\")\n",
    "    \n",
    "    answer = input(\"What is the full form of NASA? \")\n",
    "    if answer.lower() == \"national aeronautics and space administration\":\n",
    "        print(\"correct\")\n",
    "        score=score+1\n",
    "    else:\n",
    "        print(\"incorrect\")\n",
    "    \n",
    "    answer = input(\"Which valley of ladakh is famous for star observations? \")\n",
    "    if answer.lower() == \"nubra valley\":\n",
    "        print(\"correct\")\n",
    "        score=score+1\n",
    "    else:\n",
    "        print(\"incorrect\")\n",
    "    \n",
    "\n",
    "    print(f'The number of correct questions is: {score}')\n",
    "    print(f'The percentage of your score is: {(score/5)*100}%.')\n"
   ]
  },
  {
   "cell_type": "code",
   "execution_count": null,
   "id": "1782dd18-92eb-4967-8cee-7a98951aaf59",
   "metadata": {},
   "outputs": [],
   "source": []
  }
 ],
 "metadata": {
  "kernelspec": {
   "display_name": "Python 3 (ipykernel)",
   "language": "python",
   "name": "python3"
  },
  "language_info": {
   "codemirror_mode": {
    "name": "ipython",
    "version": 3
   },
   "file_extension": ".py",
   "mimetype": "text/x-python",
   "name": "python",
   "nbconvert_exporter": "python",
   "pygments_lexer": "ipython3",
   "version": "3.12.4"
  }
 },
 "nbformat": 4,
 "nbformat_minor": 5
}
