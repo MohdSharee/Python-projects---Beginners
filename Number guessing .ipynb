{
 "cells": [
  {
   "cell_type": "markdown",
   "id": "1d661b4f-a4aa-4032-ba5a-86c03ac13fe4",
   "metadata": {},
   "source": [
    "# Number guessing game"
   ]
  },
  {
   "cell_type": "code",
   "execution_count": 93,
   "id": "1928bf20-7642-4b56-aebe-7903941fc90b",
   "metadata": {},
   "outputs": [
    {
     "name": "stdout",
     "output_type": "stream",
     "text": [
      "You've only 7 chances to guess the integer!\n"
     ]
    },
    {
     "name": "stdin",
     "output_type": "stream",
     "text": [
      "Guess a number:- 50\n"
     ]
    },
    {
     "name": "stdout",
     "output_type": "stream",
     "text": [
      "Try again! the number is not correct\n",
      "Number is too small\n"
     ]
    },
    {
     "name": "stdin",
     "output_type": "stream",
     "text": [
      "Guess a number:- 60\n"
     ]
    },
    {
     "name": "stdout",
     "output_type": "stream",
     "text": [
      "Try again! the number is not correct\n",
      "Number is too small\n"
     ]
    },
    {
     "name": "stdin",
     "output_type": "stream",
     "text": [
      "Guess a number:- 70\n"
     ]
    },
    {
     "name": "stdout",
     "output_type": "stream",
     "text": [
      "Try again! the number is not correct\n",
      "Number is too small\n"
     ]
    },
    {
     "name": "stdin",
     "output_type": "stream",
     "text": [
      "Guess a number:- 80\n"
     ]
    },
    {
     "name": "stdout",
     "output_type": "stream",
     "text": [
      "Try again! the number is not correct\n",
      "Number is too high\n"
     ]
    },
    {
     "name": "stdin",
     "output_type": "stream",
     "text": [
      "Guess a number:- 75\n"
     ]
    },
    {
     "name": "stdout",
     "output_type": "stream",
     "text": [
      "Try again! the number is not correct\n",
      "Number is too high\n"
     ]
    },
    {
     "name": "stdin",
     "output_type": "stream",
     "text": [
      "Guess a number:- 72\n"
     ]
    },
    {
     "name": "stdout",
     "output_type": "stream",
     "text": [
      "Congrats you did it in  6 try\n"
     ]
    }
   ],
   "source": [
    "import random\n",
    "x = random.randint(1,100)\n",
    "print(\"You've only 7 chances to guess the integer!\")\n",
    "i=0\n",
    "\n",
    "for i in range(1,8):\n",
    "    a=int(input(\"Guess a number:-\"))\n",
    "    if a!=x :\n",
    "        print(\"Try again! the number is not correct\")\n",
    "        \n",
    "        if a>x:\n",
    "            print(\"Number is too high\")\n",
    "        elif a<x:\n",
    "            print(\"Number is too small\")\n",
    "    elif a==x:\n",
    "        print(\"Congrats you did it in \",i,\"try/tries.\")\n",
    "        break"
   ]
  },
  {
   "cell_type": "markdown",
   "id": "1d19d387-002e-45d1-a67f-4c543f96ec4c",
   "metadata": {},
   "source": []
  }
 ],
 "metadata": {
  "kernelspec": {
   "display_name": "Python 3 (ipykernel)",
   "language": "python",
   "name": "python3"
  },
  "language_info": {
   "codemirror_mode": {
    "name": "ipython",
    "version": 3
   },
   "file_extension": ".py",
   "mimetype": "text/x-python",
   "name": "python",
   "nbconvert_exporter": "python",
   "pygments_lexer": "ipython3",
   "version": "3.12.4"
  }
 },
 "nbformat": 4,
 "nbformat_minor": 5
}
